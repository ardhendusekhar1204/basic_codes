{
 "cells": [
  {
   "cell_type": "code",
   "execution_count": 1,
   "id": "f8718319-e157-4b02-8a35-0bfe39eb1721",
   "metadata": {},
   "outputs": [],
   "source": [
    "import pandas as pd"
   ]
  },
  {
   "cell_type": "code",
   "execution_count": 2,
   "id": "55dfdd25-ec25-48dd-8221-2b2baa0de75d",
   "metadata": {},
   "outputs": [],
   "source": [
    "df = pd.read_csv('tcgasomewhatrefined2.csv')"
   ]
  },
  {
   "cell_type": "code",
   "execution_count": 4,
   "id": "3a9cf7f3-01af-4b42-8169-dc141274ba41",
   "metadata": {},
   "outputs": [],
   "source": [
    "diagno_fnames = df['Diagnostic_slide'].tolist()"
   ]
  },
  {
   "cell_type": "code",
   "execution_count": 10,
   "id": "63779da0-b2f4-480a-b1a7-84232ac87cf5",
   "metadata": {},
   "outputs": [],
   "source": [
    "df_1 = pd.read_csv('/home/ardhendu/Downloads/gdc_manifest.2024-04-22.txt',sep='\\t')"
   ]
  },
  {
   "cell_type": "code",
   "execution_count": 12,
   "id": "8b565eae-1f12-4fc1-a3b1-5fbb23e23611",
   "metadata": {},
   "outputs": [],
   "source": [
    "df_1[df_1['filename'].isin(diagno_fnames)].to_csv('allher2info.txt', sep='\\t')"
   ]
  },
  {
   "cell_type": "code",
   "execution_count": null,
   "id": "79e8470f-209e-4f67-9a02-8a0be219b3cd",
   "metadata": {},
   "outputs": [],
   "source": []
  }
 ],
 "metadata": {
  "kernelspec": {
   "display_name": "Python 3 (ipykernel)",
   "language": "python",
   "name": "python3"
  },
  "language_info": {
   "codemirror_mode": {
    "name": "ipython",
    "version": 3
   },
   "file_extension": ".py",
   "mimetype": "text/x-python",
   "name": "python",
   "nbconvert_exporter": "python",
   "pygments_lexer": "ipython3",
   "version": "3.8.10"
  }
 },
 "nbformat": 4,
 "nbformat_minor": 5
}
