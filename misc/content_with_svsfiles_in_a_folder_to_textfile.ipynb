{
 "cells": [
  {
   "cell_type": "code",
   "execution_count": 1,
   "id": "cf8b5d35",
   "metadata": {},
   "outputs": [
    {
     "name": "stdout",
     "output_type": "stream",
     "text": [
      "Saved 205297 file paths to unused123.txt\n"
     ]
    }
   ],
   "source": [
    "import os\n",
    "\n",
    "def get_all_file_paths(directory):\n",
    "    \"\"\"\n",
    "    Recursively get the paths of all files in the specified directory.\n",
    "\n",
    "    :param directory: The root directory to start the search from.\n",
    "    :return: A list of paths to all files found in the directory.\n",
    "    \"\"\"\n",
    "    file_paths = []\n",
    "\n",
    "    for root, _, files in os.walk(directory):\n",
    "        for file in files:\n",
    "            file_paths.append(os.path.join(root, file))\n",
    "\n",
    "    return file_paths\n",
    "\n",
    "def save_file_paths(file_paths, output_file):\n",
    "    \"\"\"\n",
    "    Save the list of file paths to a text file.\n",
    "\n",
    "    :param file_paths: A list of file paths to save.\n",
    "    :param output_file: The path to the output text file.\n",
    "    \"\"\"\n",
    "    with open(output_file, 'w') as f:\n",
    "        for path in file_paths:\n",
    "            f.write(path + '\\n')\n",
    "\n",
    "# Parameters\n",
    "directory = '/workspace/im4MEC/moco_tiles/train/'\n",
    "output_file = 'unused123.txt'\n",
    "\n",
    "# Get all file paths\n",
    "file_paths = get_all_file_paths(directory)\n",
    "\n",
    "# Save file paths to a text file\n",
    "save_file_paths(file_paths, output_file)\n",
    "\n",
    "print(f\"Saved {len(file_paths)} file paths to {output_file}\")"
   ]
  },
  {
   "cell_type": "code",
   "execution_count": 3,
   "id": "088263dc",
   "metadata": {},
   "outputs": [],
   "source": [
    "#2nd script"
   ]
  },
  {
   "cell_type": "code",
   "execution_count": 2,
   "id": "c4b35dde",
   "metadata": {},
   "outputs": [
    {
     "name": "stdout",
     "output_type": "stream",
     "text": [
      "Paths of .svs files have been written to unused1234.txt\n"
     ]
    }
   ],
   "source": [
    "import os\n",
    "\n",
    "def generate_svs_paths_file(folder_path, output_file):\n",
    "    # Open the output file in write mode\n",
    "    with open(output_file, 'w') as file:\n",
    "        # Walk through the directory\n",
    "        for root, dirs, files in os.walk(folder_path):\n",
    "            for name in files:\n",
    "                if name.endswith('.svs'):\n",
    "                    # Construct the full path of the .svs file\n",
    "                    file_path = os.path.join(root, name)\n",
    "                    # Write the path to the output file\n",
    "                    file.write(file_path + '\\n')\n",
    "\n",
    "# Define the folder containing .svs files and the output file\n",
    "folder_path = '/workspace/im4MEC/moco_tiles/train'\n",
    "output_file = 'unused1234.txt'\n",
    "\n",
    "# Generate the text file with paths of .svs files\n",
    "generate_svs_paths_file(folder_path, output_file)\n",
    "\n",
    "print(f\"Paths of .svs files have been written to {output_file}\")"
   ]
  },
  {
   "cell_type": "code",
   "execution_count": null,
   "id": "1693f5c2",
   "metadata": {},
   "outputs": [],
   "source": []
  }
 ],
 "metadata": {
  "kernelspec": {
   "display_name": "Python 3 (ipykernel)",
   "language": "python",
   "name": "python3"
  },
  "language_info": {
   "codemirror_mode": {
    "name": "ipython",
    "version": 3
   },
   "file_extension": ".py",
   "mimetype": "text/x-python",
   "name": "python",
   "nbconvert_exporter": "python",
   "pygments_lexer": "ipython3",
   "version": "3.8.13"
  }
 },
 "nbformat": 4,
 "nbformat_minor": 5
}
