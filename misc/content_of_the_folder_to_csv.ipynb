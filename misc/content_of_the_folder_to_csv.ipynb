{
 "cells": [
  {
   "cell_type": "code",
   "execution_count": 4,
   "id": "7caf2f56",
   "metadata": {},
   "outputs": [],
   "source": [
    "import os\n",
    "import csv"
   ]
  },
  {
   "cell_type": "code",
   "execution_count": 5,
   "id": "8a5046e8",
   "metadata": {},
   "outputs": [
    {
     "name": "stdout",
     "output_type": "stream",
     "text": [
      "[]\n",
      "CSV file created successfully.\n"
     ]
    }
   ],
   "source": [
    "folder_path = '/workspace/CLAM/datadir'\n",
    "\n",
    "# List all files in the folder\n",
    "files = os.listdir(folder_path)\n",
    "print(files)\n",
    "# Define the path for the CSV file\n",
    "csv_file_path = '/workspace/CLAM/datadir/output.csv'\n",
    "\n",
    "# Open the CSV file in write mode\n",
    "with open(csv_file_path, 'w', newline='') as csvfile:\n",
    "    # Create a CSV writer object\n",
    "    csv_writer = csv.writer(csvfile)\n",
    "    \n",
    "    # Write the header\n",
    "    csv_writer.writerow(['case_id','slide_id'])\n",
    "    \n",
    "    # Write the filenames to the CSV file\n",
    "    for file in files:\n",
    "        csv_writer.writerow([file,file])\n",
    "\n",
    "print(\"CSV file created successfully.\")"
   ]
  },
  {
   "cell_type": "code",
   "execution_count": 6,
   "id": "fdf34894",
   "metadata": {},
   "outputs": [
    {
     "data": {
      "text/plain": [
       "'/workspace/CLAM/datadir'"
      ]
     },
     "execution_count": 6,
     "metadata": {},
     "output_type": "execute_result"
    }
   ],
   "source": [
    "import os\n",
    "import csv\n",
    "\n",
    "# Path to the folder\n",
    "folder_path = '/workspace/im4MEC1/im4MEC/moco_tiles/train/'\n",
    "\n",
    "# List all files and subdirectories in the folder\n",
    "folder_contents = os.listdir(folder_path)\n",
    "\n",
    "# Path to the output CSV file\n",
    "output_csv_file = 'folder_contents_1_2.csv'\n",
    "\n",
    "# Write the folder contents to the CSV file\n",
    "with open(output_csv_file, 'w', newline='') as file:\n",
    "    writer = csv.writer(file)\n",
    "    \n",
    "    # Write the header\n",
    "    writer.writerow(['slide_id'])  # Header for 'Name' and 'Type' columns\n",
    "    \n",
    "    # Write each file and subdirectory\n",
    "    for item in folder_contents:\n",
    "        #item_path = os.path.join(folder_path, item)\n",
    "        #item_type = 'File' if os.path.isfile(item_path) else 'Directory'\n",
    "        writer.writerow([item])\n",
    "\n",
    "print(\"CSV file generated successfully.\")"
   ]
  },
  {
   "cell_type": "code",
   "execution_count": null,
   "id": "1b1d2e83",
   "metadata": {},
   "outputs": [],
   "source": []
  }
 ],
 "metadata": {
  "kernelspec": {
   "display_name": "Python 3 (ipykernel)",
   "language": "python",
   "name": "python3"
  },
  "language_info": {
   "codemirror_mode": {
    "name": "ipython",
    "version": 3
   },
   "file_extension": ".py",
   "mimetype": "text/x-python",
   "name": "python",
   "nbconvert_exporter": "python",
   "pygments_lexer": "ipython3",
   "version": "3.8.13"
  }
 },
 "nbformat": 4,
 "nbformat_minor": 5
}
